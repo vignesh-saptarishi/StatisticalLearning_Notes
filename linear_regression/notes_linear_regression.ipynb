{
 "cells": [
  {
   "cell_type": "markdown",
   "metadata": {},
   "source": [
    "## Linear Regression\n",
    "\n",
    "Linear regression is one of the simplest and most straightforward approaches for supervised learning. For any supervised learning task, the first step is to come up with a model to predict the response $Y$ on the basis of one or more predictor variables $X$:\n",
    "\n",
    "$$\\hat{Y} = \\beta_0 + \\beta_1X_1 + \\beta_2X_2 + ... + \\beta_pX_p$$\n",
    "\n",
    "$\\beta_i$'s are the parameters and $\\hat{Y}$ is the predicted response from our model. To complete our model, we only need to figure out the values for $\\beta_i$.\n",
    "\n",
    "We have the training set $(X_i, Y_i)$, and a reasonable approach is to find a set of $\\beta$'s so that $\\hat{Y}$ is as close to $Y$ as possible, for the given set of points. A typical function to determine the closeness between the response and predicted response is the least-squares cost function.\n",
    "\n",
    "$$J(\\beta) = \\sum_{i=1}^n(\\hat{y}_i - y_i)^2$$\n",
    "\n",
    "where $n$ is the number of observations. The goal now is to find a set of $\\beta$'s that minimizes $J(\\beta)$. One way to solve this is by running an optimization algorithm that starts with an initial guess for $\\beta$'s and iteratively changes $\\beta$ to minimize $J(\\beta)$. One such algorithm is the Gradient Descent algorithm. \n",
    "\n",
    "#### Gradient Descent\n",
    "Gradient descent is based on the fact that a function $f(x)$ decreases fastest from any point $a$ if you go in the direction of the negative gradient at that point. The gradient is given by evaluating the partial derivative of the cost function. For a single update:\n",
    "\n",
    "$$\\beta_i^{new} = \\beta_i - \\gamma \\frac{\\partial}{\\partial \\beta_i}J(\\beta)$$\n",
    "\n",
    "Here, $\\gamma$ is the learning rate - determines how quickly (or how much) $\\beta$ is updated. For the least squares expression, the gradient is given by:\n",
    "\n",
    "$$\\frac{\\partial}{\\partial \\beta_i}J(\\beta) = \\frac{1}{2} (\\hat{y} - y)x_i$$\n",
    "\n",
    "$x_i$ is introduced because $\\hat{y}$ is a function of $x$."
   ]
  },
  {
   "cell_type": "code",
   "execution_count": 1,
   "metadata": {
    "collapsed": true
   },
   "outputs": [],
   "source": [
    "def cost_fn(X, y, beta):\n",
    "    return ((X.dot(beta) - y) ** 2).sum() / 2 / len(y)\n",
    "\n",
    "def gradient_descent(X, y, beta, gamma, iters):\n",
    "    cost_hist = numpy.zeros(iters)\n",
    "    for i in range(iters):\n",
    "        hypothesis = X.dot(beta)\n",
    "        loss = hypothesis - y\n",
    "        gradient = X.T.dot(loss) / len(y)\n",
    "        new_beta = beta - gamma*gradient\n",
    "        beta = new_beta\n",
    "        cost_hist[i] = cost_fn(X, y, beta)\n",
    "    return beta, cost_hist"
   ]
  },
  {
   "cell_type": "markdown",
   "metadata": {},
   "source": [
    "The functions defined above vary slightly from the cost function defined earlier. There is an additional $\\frac{1}{2n}$, and a corresponding change in the expression for the gradient. This is just for convenience, and to have a measure of average error per data point rather than the total error.\n",
    "\n",
    "Also of note is that there are no loops in the algorithm. This method looks at all the training points at each step, and is called __batch gradient descent__. The variables are all matrices, and we could operate on them directly. We could also proceed iteratively, looking at each point or a subset of points at every step. In that case the algorithm is called __stochastic gradient descent__.\n",
    "\n",
    "Let's look at an example."
   ]
  },
  {
   "cell_type": "code",
   "execution_count": 2,
   "metadata": {
    "collapsed": true
   },
   "outputs": [],
   "source": [
    "import pandas\n",
    "import numpy\n",
    "import patsy\n",
    "import matplotlib.pyplot as plt\n",
    "%matplotlib inline"
   ]
  },
  {
   "cell_type": "code",
   "execution_count": 3,
   "metadata": {
    "collapsed": false
   },
   "outputs": [
    {
     "name": "stdout",
     "output_type": "stream",
     "text": [
      "          X        Y\n",
      "2    8.5186  13.6620\n",
      "30   5.2524  -1.2200\n",
      "43   5.7737   2.4406\n",
      "68   5.4994   1.0173\n",
      "21  20.2700  21.7670\n"
     ]
    },
    {
     "data": {
      "text/plain": [
       "<matplotlib.text.Text at 0x10e04dba8>"
      ]
     },
     "execution_count": 3,
     "metadata": {},
     "output_type": "execute_result"
    },
    {
     "data": {
      "image/png": "[encoded data removed]",
      "text/plain": [
       "<matplotlib.figure.Figure at 0x10e001908>"
      ]
     },
     "metadata": {},
     "output_type": "display_data"
    }
   ],
   "source": [
    "data = pandas.read_csv('ex1_simple.txt', names=['X', 'Y'])\n",
    "print(data.sample(5))\n",
    "\n",
    "fig, ax = plt.subplots(figsize=(5, 3))\n",
    "ax.scatter(data['X'], data['Y'])\n",
    "ax.set_xlabel('X')\n",
    "ax.set_ylabel('Y')"
   ]
  },
  {
   "cell_type": "markdown",
   "metadata": {},
   "source": [
    "The batch gradient descent requires the inputs to be fed as matrices. We would also need to add an extra column of $1$s to the X matrix to account for $x_0$ which is not explicitly present in the expressions written earlier. Let's run our algorithm with an initial estimate of $0$ for our parameters."
   ]
  },
  {
   "cell_type": "code",
   "execution_count": 4,
   "metadata": {
    "collapsed": false
   },
   "outputs": [
    {
     "name": "stdout",
     "output_type": "stream",
     "text": [
      "[[-3.78806857]\n",
      " [ 1.18221277]]\n"
     ]
    }
   ],
   "source": [
    "dmat = patsy.dmatrices('Y ~ X', data)\n",
    "X = numpy.array(dmat[1])\n",
    "y = numpy.array(dmat[0])\n",
    "\n",
    "iters = 2000\n",
    "gamma = 0.01\n",
    "beta_init = numpy.array([[0], [0]])\n",
    "betas, cost_history = gradient_descent(X, y, beta_init, gamma, iters)\n",
    "print(betas)"
   ]
  },
  {
   "cell_type": "code",
   "execution_count": 5,
   "metadata": {
    "collapsed": false
   },
   "outputs": [
    {
     "data": {
      "text/plain": [
       "<matplotlib.text.Text at 0x10e26cb38>"
      ]
     },
     "execution_count": 5,
     "metadata": {},
     "output_type": "execute_result"
    },
    {
     "data": {
      "image/png": "[encoded data removed]",
      "text/plain": [
       "<matplotlib.figure.Figure at 0x10e03add8>"
      ]
     },
     "metadata": {},
     "output_type": "display_data"
    }
   ],
   "source": [
    "y_preds = X.dot(betas)\n",
    "\n",
    "fig, axes = plt.subplots(1, 2, figsize=(10, 3))\n",
    "axes[0].scatter(data['X'], data['Y'], alpha=0.25)\n",
    "axes[0].plot(data['X'], y_preds, color='red', linewidth=2)\n",
    "axes[0].set_xlabel('X')\n",
    "axes[0].set_ylabel('Y')\n",
    "\n",
    "axes[1].plot(range(len(cost_history)), cost_history)\n",
    "axes[1].set_xlabel('iteration #')\n",
    "axes[1].set_ylabel('cost function')"
   ]
  },
  {
   "cell_type": "markdown",
   "metadata": {},
   "source": [
    "#### Least-squares solution\n",
    "Another way to determine the parameters is by explicitly minimizing the cost function by setting the derivative to $0$ (closed-form solution). $J(\\beta)$ can be expressed in terms of matrix variables:\n",
    "\n",
    "$$J(\\beta) = \\frac{1}{2}(X\\beta - y)^T(X\\beta - y)$$\n",
    "\n",
    "After some basic analysis, one can find that the gradient of $J(\\beta)$ is given by:\n",
    "\n",
    "$$\\nabla_\\beta J = X^TX\\beta - X^Ty$$\n",
    "\n",
    "Setting it to $0$ yields,\n",
    "\n",
    "$$\\beta = (X^TX)^{-1}X^Ty$$\n",
    "\n",
    "We can now directly use this to determine our parameters (as long as the data can fit in the memory to enable vectorized operations)."
   ]
  },
  {
   "cell_type": "code",
   "execution_count": 6,
   "metadata": {
    "collapsed": true
   },
   "outputs": [],
   "source": [
    "def OLS(X, Y):\n",
    "    return numpy.linalg.inv(numpy.dot(X.T, X)) @ X.T @ Y"
   ]
  },
  {
   "cell_type": "code",
   "execution_count": 7,
   "metadata": {
    "collapsed": false
   },
   "outputs": [
    {
     "name": "stdout",
     "output_type": "stream",
     "text": [
      "     Unnamed: 0     TV  Radio  Newspaper  Sales\n",
      "8             9    8.6    2.1        1.0    4.8\n",
      "118         119  125.7   36.9       79.2   15.9\n",
      "5             6    8.7   48.9       75.0    7.2\n",
      "45           46  175.1   22.5       31.5   14.9\n",
      "188         189  286.0   13.9        3.7   15.9\n"
     ]
    }
   ],
   "source": [
    "data = pandas.read_csv('ex2.csv')\n",
    "print(data.sample(5))"
   ]
  },
  {
   "cell_type": "code",
   "execution_count": 8,
   "metadata": {
    "collapsed": false
   },
   "outputs": [
    {
     "name": "stdout",
     "output_type": "stream",
     "text": [
      "[[  2.93888937e+00]\n",
      " [  4.57646455e-02]\n",
      " [  1.88530017e-01]\n",
      " [ -1.03749304e-03]]\n"
     ]
    }
   ],
   "source": [
    "dmat = patsy.dmatrices('Sales ~ TV + Radio + Newspaper', data)\n",
    "X = numpy.array(dmat[1])\n",
    "y = numpy.array(dmat[0])\n",
    "\n",
    "betas = OLS(X, y)\n",
    "print(betas)"
   ]
  },
  {
   "cell_type": "code",
   "execution_count": 9,
   "metadata": {
    "collapsed": false
   },
   "outputs": [],
   "source": [
    "y_pred = X.dot(betas)"
   ]
  }
 ],
 "metadata": {
  "kernelspec": {
   "display_name": "Python 3",
   "language": "python",
   "name": "python3"
  },
  "language_info": {
   "codemirror_mode": {
    "name": "ipython",
    "version": 3
   },
   "file_extension": ".py",
   "mimetype": "text/x-python",
   "name": "python",
   "nbconvert_exporter": "python",
   "pygments_lexer": "ipython3",
   "version": "3.5.2"
  }
 },
 "nbformat": 4,
 "nbformat_minor": 1
}
