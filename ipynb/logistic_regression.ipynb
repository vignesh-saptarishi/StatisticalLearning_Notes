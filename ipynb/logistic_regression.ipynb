{
 "cells": [
  {
   "cell_type": "markdown",
   "metadata": {},
   "source": [
    "## Logistic Regression\n",
    "\n",
    "Despite the name, logistic regression is actually a method for classification. In classification problems, the response variable $Y$ is qualitative. One could imagine using linear regression to solve problems of classification by encoding the qualitative responses as quantitative responses. For example, in a 3-class classification problem, we could have $Y = 1, 2, 3$ and use least squares to fit the model. But by encoding this way, we inherently produce a model where the difference between classes 1 and 2 is equal to the difference between classes 2 and 3. This is so because in the response space, the quantitative variables are equally spaced. We also see predicted variables above and below the range, which are harder to interpret.\n",
    "\n",
    "Logistic regression is typically used for binary classification problems. Although it can be extended to include multi-class models, Linear Discriminant Analysis tends to be more popular for such cases. We shall consider binary classification problems here.\n",
    "\n",
    "In Linear Regression, the hypothesis $\\hat{y}$ was modeled as:\n",
    "\n",
    "$$\\hat{y} = h_{\\beta}(x) = \\beta_0 + \\beta_1X_1 + \\beta_2X_2 + ... + \\beta_pX_p$$\n",
    "\n",
    "For Logistic Regression, we will modify the hypothesis function to accommodate binary classification. A typical choice is the __logistic__ (aka __sigmoid__) function:\n",
    "\n",
    "$$\\hat{y} = h_{\\beta}(x) = \\frac{1}{1 + exp(-\\beta^Tx)}$$"
   ]
  },
  {
   "cell_type": "code",
   "execution_count": 1,
   "metadata": {
    "collapsed": true
   },
   "outputs": [],
   "source": [
    "import numpy\n",
    "import matplotlib.pyplot as plt\n",
    "plt.style.use('ggplot')\n",
    "%matplotlib inline"
   ]
  },
  {
   "cell_type": "code",
   "execution_count": 2,
   "metadata": {
    "collapsed": false
   },
   "outputs": [
    {
     "data": {
      "text/plain": [
       "<matplotlib.text.Text at 0x112bd1a58>"
      ]
     },
     "execution_count": 2,
     "metadata": {},
     "output_type": "execute_result"
    },
    {
     "data": {
      "image/png": "[encoded data removed]",
      "text/plain": [
       "<matplotlib.figure.Figure at 0x112bbe7b8>"
      ]
     },
     "metadata": {},
     "output_type": "display_data"
    }
   ],
   "source": [
    "def sigmoid(x):\n",
    "    return 1 / (1 + numpy.exp(-x))\n",
    "\n",
    "x = numpy.arange(-10, 10, 0.5)\n",
    "y = [sigmoid(i) for i in x]\n",
    "\n",
    "fig, ax = plt.subplots()\n",
    "ax.plot(x, y, linewidth=2)\n",
    "ax.set_xlabel('x')\n",
    "ax.set_ylabel('sigmoid(x)')"
   ]
  },
  {
   "cell_type": "markdown",
   "metadata": {},
   "source": [
    "From the above plot, we can see that the sigmoid tends towards 1 or 0 depending on whether x tends towards positive or negative infinity. Now, how do we fit $\\beta$ for this model? From a probabilistic interpretation, let us assume\n",
    "\n",
    "\\begin{align}\n",
    "&P(y = 1 \\mid x; \\beta) = h_{\\beta}(x)\\\\\n",
    "&P(y = 0 \\mid x; \\beta) = 1 - h_{\\beta}(x)\n",
    "\\end{align}\n",
    "\n",
    "This can be written as\n",
    "\n",
    "$$p(y \\mid x; \\beta) = (h_{\\beta}(x))^y (1 - h_{\\beta}(x))^{1-y}$$\n",
    "\n",
    "We can now write likelihood of parameters as\n",
    "\n",
    "\\begin{align}\n",
    "L(\\beta) & = p(y \\mid x; \\beta)\\\\\n",
    "& = \\prod_{i = 1}^{n} p(y_i \\mid x_i; \\beta)\\\\\n",
    "& = \\prod_{i - 1}^{n} (h_{\\beta}(x_i))^{y_i} (1 - h_{\\beta}(x_i))^{1-y_i}\n",
    "\\end{align}\n",
    "\n",
    "It will be easier to maximize the log likelihood\n",
    "\n",
    "\\begin{align}\n",
    "\\ell(\\beta) & = \\log L(\\beta)\\\\\n",
    "& = \\sum_{i = 1}^n y_i \\log(h(x_i)) + (1 - y_i) \\log (1 - h(x_i))\n",
    "\\end{align}\n",
    "\n",
    "We can now find parameters by maximizing the log likelihood using Gradient Ascent. The gradient of the log likelihood is\n",
    "\n",
    "$$\\frac{\\partial}{\\partial \\beta_i} \\ell(\\beta) = (y - h_\\beta(x))x_i$$\n",
    "\n",
    "The gradient (and hence, the update rule) seen here is very similar to the one in Linear Regression."
   ]
  },
  {
   "cell_type": "markdown",
   "metadata": {},
   "source": [
    "_To do: Add example_"
   ]
  }
 ],
 "metadata": {
  "kernelspec": {
   "display_name": "Python 3",
   "language": "python",
   "name": "python3"
  },
  "language_info": {
   "codemirror_mode": {
    "name": "ipython",
    "version": 3
   },
   "file_extension": ".py",
   "mimetype": "text/x-python",
   "name": "python",
   "nbconvert_exporter": "python",
   "pygments_lexer": "ipython3",
   "version": "3.5.2"
  }
 },
 "nbformat": 4,
 "nbformat_minor": 1
}
