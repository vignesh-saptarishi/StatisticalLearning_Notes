{
 "cells": [
  {
   "cell_type": "markdown",
   "metadata": {},
   "source": [
    "## Linear Methods for Classification\n",
    "\n",
    "This section deals with Logistic Regression and Linear Discriminant Analysis for classification problems.\n",
    "\n",
    "### Logistic Regression\n",
    "For a binary classification problem with class $0$ or $1$, one could apply regression by least squares. The $X \\hat{\\beta}$ so obtained in this case can be shown to actually be an estimate of $Pr(Y=1 \\mid X)$. But the estimates from linear regression tend to be outside the [0, 1] interval, and hence not useful for a probabilistic interpretation. In Logistic regression, we avoid this problem by applying a function that gives outputs between $0$ to $1$ for all input values - the ___logit___ aka ___sigmoid___ function. \n",
    "\n",
    "Rather than modelling the response variable $Y$ directly, logistic regression models the probability that $Y$ belongs to a particular category, i.e., the conditional probability of $Y$ given the predictors $X$: $p(X) = P(Y=1 \\mid X)$. These take values in the interval $[0, 1]$. We could then predict (or assign) an observation to a particular class based on a threshold probability value. For example, we could assign the observation to class $1$ if $p(X) = Pr(Y = 1 \\mid X) > 0.5$, and to the other class otherwise. Depending on the application, we might also want to be conservative about our prediction and instead choose lower values like $0.1$ as threshold.\n",
    "\n",
    "We model the $p(x)$ as a sigmoid function:\n",
    "\n",
    "$$p(X) = \\frac{\\exp(\\beta_0 + \\beta_1X)}{1 + \\exp(\\beta_0 + \\beta_1X)}$$\n",
    "\n",
    "A bit of algebra would show that:\n",
    "\n",
    "$$\\log \\frac{p(X)}{1 - p(X)} = \\beta_0 + \\beta_1X$$\n",
    "\n",
    "$\\frac{p(X)}{1 - p(X)}$ is called the ___odds___, and the ___log-odds___ (aka logit) is shown to be linear in $X$. For logistic regression, the optimization problem we want to solve is to find estimates for $\\beta$ such that the estimated probability $\\hat p(x_i)$ corresponds as closely as possible to the original training observation. This approach is known as the ___maximum likelihood___ approach. Formally, we seek to find estimates $\\beta$ that maximizes the _likelihood_ function:\n",
    "\n",
    "$$L(\\beta) = \\prod_{i:y_i=1}p(x_i) \\prod_{i^\\prime: y_{i^\\prime} = 0}(1 - p(x_{i^\\prime}))$$\n",
    "\n",
    "or any monotonic function of $L$, specifically the ___log-likelihood___ as is often used for convenience:\n",
    "\n",
    "\\begin{align}\n",
    "\\ell(\\beta)\n",
    "&= \\log L(\\beta)\\\\\n",
    "&= \\sum_{i = 1}^{n} \\{y_i \\log p(x_i) + (1 - y_i)\\log(1 - p(x_i))\\}\\\\\n",
    "&= \\sum_{i = 1}^{n}\\{y_i\\beta^Tx_i - \\log (1 + e^{\\beta^Tx_i})\\}\n",
    "\\end{align}\n",
    "\n",
    "The coefficients estimated from logistic regression refer to the change in log-odds of the response and not the response itself.\n",
    "\n",
    "\n",
    "### Linear Discriminant Analysis\n",
    "In logistic regression, we directly modeled the conditional distribution $Pr(Y = k \\mid X = x)$. In Linear Discriminant Analysis (LDA), we instead model the distribution of predictors $X$ in each class, and then use Bayes's Theorem to compute the estimates for $Pr(Y = k \\mid X = x)$.\n",
    "\n",
    "We have $K \\ge 2$ classes in the response variable. Let $f_k(x)$ be the density function of $X$ in class $k$, and $\\pi_k$ be the prior probability of class $k$,  i.e., the probability that a randomly chosen observation comes from the $k$th class, with $\\sum_{k=1}^K \\pi_k = 1$. Baye's theorem now gives us:\n",
    "\n",
    "$$\\Pr(Y = k \\mid X = x) = p_k(x) = \\frac{\\pi_kf_k(x)}{\\sum_{l=1}^K \\pi_l f_l(x)}$$\n",
    "\n",
    "If we have estimates for $\\pi_k$ and $f_k$, we can compute $p_k(x)$. Lets model $f_k(x)$ as a Gaussian:\n",
    "\n",
    "$$f_k(x) = \\frac{1}{(2 \\pi)^{p / 2} \\lvert\\Sigma\\rvert ^{1/2}} \\exp \\left( \\frac{1}{2}(x - \\mu)^T\\Sigma^{-1}(x - \\mu) \\right)$$\n",
    "\n",
    "where $p$ is the number of predictors, $\\mu$ is the mean of $X$ and $\\Sigma = Cov(X)$ with $\\Sigma_k = \\Sigma$ $\\forall k$. In practice, we do not know the parameters of the Gaussian distributions, and hence have to be estimated:\n",
    "\n",
    "\\begin{align}\n",
    "\\hat \\pi_k &= \\frac{n_k}{n} \\\\\n",
    "\\hat \\mu_k &= \\frac{1}{n_k} \\sum_{i:y_i=k}x_i \\\\\n",
    "\\hat \\Sigma &= \\frac{1}{n - K} \\sum_{k=1}^K \\sum_{i:y_i=k} (x_i - \\hat \\mu_k) (x_i - \\hat \\mu_k)^T\n",
    "\\end{align}\n",
    "\n",
    "where $n_k$ is the number of class-$k$ observations. Once we have all this, we can calculate $p_k(x)$ and assign observation $X = x$ to the class for which $p_k(x)$ is largest. Some algebra will show that, this problem is equivalent to assigning the observation to the class for which the ___linear discriminant function___, $\\delta_k$ is largest:\n",
    "\n",
    "$$\\delta_k(x) = x^T \\Sigma^{-1} \\mu_k - \\frac{1}{2} \\mu_k^T \\Sigma^{-1} \\mu_k + \\log \\pi_k $$\n",
    "\n",
    "We can see that the discriminant function (and also log-odds) is linear in $X$. LDA makes a lot of assumptions about the distribution of the observations, and hence must be considered carefully before using. If the equality of covariances assumption is not met, one can consider using ___Quadratic Discriminant Analysis___ (QDA) which produces quadratic decision boundaries.\n",
    "\n",
    "We consider an example below from the $default$ dataset. Here, we try to classify whether a particular user will default on his credit balance payment or not (binary classification), based on predictor variables $balance$, $income$ and $student$ status."
   ]
  },
  {
   "cell_type": "code",
   "execution_count": 1,
   "metadata": {
    "collapsed": true
   },
   "outputs": [],
   "source": [
    "import numpy\n",
    "import pandas\n",
    "import matplotlib.pyplot as plt\n",
    "plt.style.use('ggplot')\n",
    "%matplotlib inline\n",
    "\n",
    "from sklearn.linear_model import LogisticRegression\n",
    "from sklearn.discriminant_analysis import LinearDiscriminantAnalysis\n",
    "from sklearn.metrics import confusion_matrix, roc_curve, classification_report\n",
    "from sklearn.model_selection import train_test_split"
   ]
  },
  {
   "cell_type": "code",
   "execution_count": 2,
   "metadata": {
    "collapsed": false
   },
   "outputs": [
    {
     "data": {
      "text/html": [
       "<div>\n",
       "<table border=\"1\" class=\"dataframe\">\n",
       "  <thead>\n",
       "    <tr style=\"text-align: right;\">\n",
       "      <th></th>\n",
       "      <th>default</th>\n",
       "      <th>student</th>\n",
       "      <th>balance</th>\n",
       "      <th>income</th>\n",
       "    </tr>\n",
       "  </thead>\n",
       "  <tbody>\n",
       "    <tr>\n",
       "      <th>1</th>\n",
       "      <td>No</td>\n",
       "      <td>No</td>\n",
       "      <td>729.526495</td>\n",
       "      <td>44361.625074</td>\n",
       "    </tr>\n",
       "    <tr>\n",
       "      <th>2</th>\n",
       "      <td>No</td>\n",
       "      <td>Yes</td>\n",
       "      <td>817.180407</td>\n",
       "      <td>12106.134700</td>\n",
       "    </tr>\n",
       "    <tr>\n",
       "      <th>3</th>\n",
       "      <td>No</td>\n",
       "      <td>No</td>\n",
       "      <td>1073.549164</td>\n",
       "      <td>31767.138947</td>\n",
       "    </tr>\n",
       "    <tr>\n",
       "      <th>4</th>\n",
       "      <td>No</td>\n",
       "      <td>No</td>\n",
       "      <td>529.250605</td>\n",
       "      <td>35704.493935</td>\n",
       "    </tr>\n",
       "    <tr>\n",
       "      <th>5</th>\n",
       "      <td>No</td>\n",
       "      <td>No</td>\n",
       "      <td>785.655883</td>\n",
       "      <td>38463.495879</td>\n",
       "    </tr>\n",
       "  </tbody>\n",
       "</table>\n",
       "</div>"
      ],
      "text/plain": [
       "  default student      balance        income\n",
       "1      No      No   729.526495  44361.625074\n",
       "2      No     Yes   817.180407  12106.134700\n",
       "3      No      No  1073.549164  31767.138947\n",
       "4      No      No   529.250605  35704.493935\n",
       "5      No      No   785.655883  38463.495879"
      ]
     },
     "execution_count": 2,
     "metadata": {},
     "output_type": "execute_result"
    }
   ],
   "source": [
    "default = pandas.read_excel('../data/islr_data/Default.xlsx')\n",
    "default.head(5)"
   ]
  },
  {
   "cell_type": "code",
   "execution_count": 3,
   "metadata": {
    "collapsed": false
   },
   "outputs": [
    {
     "name": "stdout",
     "output_type": "stream",
     "text": [
      "True          0    1    All\n",
      "Predicted                  \n",
      "0          9645  254   9899\n",
      "1            22   79    101\n",
      "All        9667  333  10000 \n",
      "\n",
      "             precision    recall  f1-score   support\n",
      "\n",
      "          0       0.97      1.00      0.99      9667\n",
      "          1       0.78      0.24      0.36       333\n",
      "\n",
      "avg / total       0.97      0.97      0.97     10000\n",
      "\n"
     ]
    }
   ],
   "source": [
    "default['student'] = default['student'].factorize()[0]\n",
    "default['default'] = default['default'].factorize()[0]\n",
    "\n",
    "y = default['default']\n",
    "X = default[['balance', 'income', 'student']]\n",
    "\n",
    "lda = LinearDiscriminantAnalysis()\n",
    "lda.fit(X, y)\n",
    "y_pred = lda.predict(X)\n",
    "print(pandas.crosstab(y_pred, y, rownames=['Predicted'], colnames=['True'], margins=True), '\\n')\n",
    "print(classification_report(y, y_pred))"
   ]
  },
  {
   "cell_type": "markdown",
   "metadata": {},
   "source": [
    "For this problem, we care about predicting whether a person would default or not. From the confusion matrix above, we can see that from among 333 people who actually defaulted, LDA only predicted that 79 people would default. By default, the LDA algorithm assigns an observation to class 1 if $\\Pr(default = 1 \\mid X=x) > 0.5$. In this example, setting a lower threshold for assigning classes will result in a more conservative, and hence better estimate for predicting defaulters."
   ]
  },
  {
   "cell_type": "code",
   "execution_count": 4,
   "metadata": {
    "collapsed": false
   },
   "outputs": [
    {
     "name": "stdout",
     "output_type": "stream",
     "text": [
      "True          0    1    All\n",
      "Predicted                  \n",
      "0          9435  140   9575\n",
      "1           232  193    425\n",
      "All        9667  333  10000 \n",
      "\n",
      "             precision    recall  f1-score   support\n",
      "\n",
      "          0       0.99      0.98      0.98      9667\n",
      "          1       0.45      0.58      0.51       333\n",
      "\n",
      "avg / total       0.97      0.96      0.96     10000\n",
      "\n"
     ]
    }
   ],
   "source": [
    "y_prob = lda.predict_proba(X)\n",
    "y_pred2 = (y_prob[:, 1] > 0.2).astype(int)\n",
    "print(pandas.crosstab(y_pred2, y, rownames=['Predicted'], colnames=['True'], margins=True), '\\n')\n",
    "print(classification_report(y, y_pred2))"
   ]
  },
  {
   "cell_type": "markdown",
   "metadata": {},
   "source": [
    "The above confusion matrix are the results of the prediction when using a threshold of 0.2, i.e., assign $default$ to class $1$ if $\\Pr(default = 1 \\mid X=x) > 0.2$; we can see that the LDA now returns a better prediction for how many people would default. However, this results in more False Positives, i.e., more people have been predicted to default, when they truly didn't.\n",
    "\n",
    "Plot below shows the ROC curve, from which we can see that our classifier can achieve high true positive rates and low false positive rates."
   ]
  },
  {
   "cell_type": "code",
   "execution_count": 5,
   "metadata": {
    "collapsed": false
   },
   "outputs": [
    {
     "data": {
      "text/plain": [
       "<matplotlib.text.Text at 0x114c8ce10>"
      ]
     },
     "execution_count": 5,
     "metadata": {},
     "output_type": "execute_result"
    },
    {
     "data": {
      "image/png": "[encoded data removed]",
      "text/plain": [
       "<matplotlib.figure.Figure at 0x114aaaf28>"
      ]
     },
     "metadata": {},
     "output_type": "display_data"
    }
   ],
   "source": [
    "fpr, tpr, thresholds = roc_curve(y, y_prob[:, 1])\n",
    "fig, ax = plt.subplots()\n",
    "ax.plot(fpr, tpr, label='ROC Curve', linewidth=3)\n",
    "ax.plot(numpy.arange(0, 1.1, 0.2), numpy.arange(0, 1.1, 0.2), '--', label='no information clf')\n",
    "ax.legend(loc='lower right')\n",
    "ax.set_xlabel('False positive rate')\n",
    "ax.set_ylabel('True positive rate')"
   ]
  }
 ],
 "metadata": {
  "kernelspec": {
   "display_name": "Python 3",
   "language": "python",
   "name": "python3"
  },
  "language_info": {
   "codemirror_mode": {
    "name": "ipython",
    "version": 3
   },
   "file_extension": ".py",
   "mimetype": "text/x-python",
   "name": "python",
   "nbconvert_exporter": "python",
   "pygments_lexer": "ipython3",
   "version": "3.5.2"
  }
 },
 "nbformat": 4,
 "nbformat_minor": 1
}
